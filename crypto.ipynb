{
 "cells": [
  {
   "cell_type": "code",
   "execution_count": 3,
   "source": [
    "# Initial imports\n",
    "import pandas as pd\n",
    "from path import Path\n",
    "import plotly.express as px\n",
    "from sklearn.preprocessing import StandardScaler, MinMaxScaler\n",
    "from sklearn.decomposition import PCA\n",
    "from sklearn.manifold import TSNE\n",
    "import matplotlib.pyplot as plt\n",
    "from sklearn.cluster import KMeans"
   ],
   "outputs": [
    {
     "output_type": "error",
     "ename": "ModuleNotFoundError",
     "evalue": "No module named 'sklearn'",
     "traceback": [
      "\u001b[0;31m---------------------------------------------------------------------------\u001b[0m",
      "\u001b[0;31mModuleNotFoundError\u001b[0m                       Traceback (most recent call last)",
      "\u001b[0;32m/var/folders/tn/m51dm4nd5wv2rw2867yd_l_h0000gn/T/ipykernel_67997/331764672.py\u001b[0m in \u001b[0;36m<module>\u001b[0;34m\u001b[0m\n\u001b[1;32m      3\u001b[0m \u001b[0;32mfrom\u001b[0m \u001b[0mpath\u001b[0m \u001b[0;32mimport\u001b[0m \u001b[0mPath\u001b[0m\u001b[0;34m\u001b[0m\u001b[0;34m\u001b[0m\u001b[0m\n\u001b[1;32m      4\u001b[0m \u001b[0;32mimport\u001b[0m \u001b[0mplotly\u001b[0m\u001b[0;34m.\u001b[0m\u001b[0mexpress\u001b[0m \u001b[0;32mas\u001b[0m \u001b[0mpx\u001b[0m\u001b[0;34m\u001b[0m\u001b[0;34m\u001b[0m\u001b[0m\n\u001b[0;32m----> 5\u001b[0;31m \u001b[0;32mfrom\u001b[0m \u001b[0msklearn\u001b[0m\u001b[0;34m.\u001b[0m\u001b[0mpreprocessing\u001b[0m \u001b[0;32mimport\u001b[0m \u001b[0mStandardScaler\u001b[0m\u001b[0;34m,\u001b[0m \u001b[0mMinMaxScaler\u001b[0m\u001b[0;34m\u001b[0m\u001b[0;34m\u001b[0m\u001b[0m\n\u001b[0m\u001b[1;32m      6\u001b[0m \u001b[0;32mfrom\u001b[0m \u001b[0msklearn\u001b[0m\u001b[0;34m.\u001b[0m\u001b[0mdecomposition\u001b[0m \u001b[0;32mimport\u001b[0m \u001b[0mPCA\u001b[0m\u001b[0;34m\u001b[0m\u001b[0;34m\u001b[0m\u001b[0m\n\u001b[1;32m      7\u001b[0m \u001b[0;32mfrom\u001b[0m \u001b[0msklearn\u001b[0m\u001b[0;34m.\u001b[0m\u001b[0mmanifold\u001b[0m \u001b[0;32mimport\u001b[0m \u001b[0mTSNE\u001b[0m\u001b[0;34m\u001b[0m\u001b[0;34m\u001b[0m\u001b[0m\n",
      "\u001b[0;31mModuleNotFoundError\u001b[0m: No module named 'sklearn'"
     ]
    }
   ],
   "metadata": {}
  },
  {
   "cell_type": "code",
   "execution_count": null,
   "source": [
    "# Load the crypto_data.csv file\n",
    "crypto_data = pd.read_csv(Path(\"crypto_data.csv\"), index_col=0)\n",
    "crypto_data.head()"
   ],
   "outputs": [],
   "metadata": {}
  },
  {
   "cell_type": "code",
   "execution_count": null,
   "source": [
    "crypto_data.info()"
   ],
   "outputs": [],
   "metadata": {}
  },
  {
   "cell_type": "code",
   "execution_count": null,
   "source": [
    "# Convert 'TotalCoinSupply' to numeric\n",
    "crypto_data['TotalCoinSupply'] = pd.to_numeric(crypto_data['TotalCoinSupply'], errors='coerce')\n",
    "crypto_data.info()"
   ],
   "outputs": [],
   "metadata": {}
  },
  {
   "cell_type": "code",
   "execution_count": null,
   "source": [
    "# Discard all cryptocurrencies that are not being traded\n",
    "crypto_data = crypto_data[crypto_data['IsTrading'] == True]\n",
    "crypto_data.info()"
   ],
   "outputs": [],
   "metadata": {}
  },
  {
   "cell_type": "code",
   "execution_count": null,
   "source": [
    "# Remove the 'IsTrading' column\n",
    "crypto_data = crypto_data.drop(columns=['IsTrading'])\n",
    "crypto_data.head()"
   ],
   "outputs": [],
   "metadata": {}
  },
  {
   "cell_type": "code",
   "execution_count": null,
   "source": [
    "# Remove all rows with missing values\n",
    "crypto_data = crypto_data.dropna()\n",
    "crypto_data.head()"
   ],
   "outputs": [],
   "metadata": {}
  },
  {
   "cell_type": "code",
   "execution_count": null,
   "source": [
    "# Filter for cryptocurrencies that have been mined\n",
    "crypto_data = crypto_data[crypto_data['TotalCoinsMined'] > 0]\n",
    "crypto_data.info()"
   ],
   "outputs": [],
   "metadata": {}
  },
  {
   "cell_type": "code",
   "execution_count": null,
   "source": [
    "# Remove the 'CoinName' column\n",
    "coin_names = crypto_data['CoinName']\n",
    "crypto_data = crypto_data.drop(columns=['CoinName'])\n",
    "crypto_data.info()"
   ],
   "outputs": [],
   "metadata": {}
  },
  {
   "cell_type": "code",
   "execution_count": null,
   "source": [
    "# Use dummy variables for text columns\n",
    "X = pd.get_dummies(crypto_data, columns=['Algorithm', 'ProofType'])\n",
    "print(X.shape)\n",
    "X.head()"
   ],
   "outputs": [],
   "metadata": {}
  },
  {
   "cell_type": "code",
   "execution_count": null,
   "source": [
    "# Scale the data\n",
    "scaler = StandardScaler()\n",
    "X_scaled = scaler.fit_transform(X)\n",
    "print(X_scaled.shape)"
   ],
   "outputs": [],
   "metadata": {}
  },
  {
   "cell_type": "code",
   "execution_count": null,
   "source": [
    "# Perform dimensionality reduction with PCA\n",
    "pca = PCA(n_components=0.90)\n",
    "crypto_pca = pca.fit_transform(X_scaled)\n",
    "print(crypto_pca.shape)"
   ],
   "outputs": [],
   "metadata": {}
  },
  {
   "cell_type": "code",
   "execution_count": null,
   "source": [
    "# Further reduce the dimensions with t-SNE\n",
    "tsne = TSNE(n_components=2, random_state=42)\n",
    "crypto_tsne = tsne.fit_transform(crypto_pca)\n",
    "print(crypto_tsne.shape)"
   ],
   "outputs": [],
   "metadata": {}
  },
  {
   "cell_type": "code",
   "execution_count": null,
   "source": [
    "# Visualize the results from t-SNE\n",
    "plt.figure(num=None, figsize=(10,10), facecolor='w', edgecolor='k')\n",
    "plt.scatter(crypto_tsne[:, 0], crypto_tsne[:, 1])\n",
    "plt.title('t-SNE visualization of cryptocurrencies', fontdict={'fontsize': 20})\n",
    "plt.xlabel('t-SNE 1')\n",
    "plt.ylabel('t-SNE 2')\n",
    "plt.show()"
   ],
   "outputs": [],
   "metadata": {}
  },
  {
   "cell_type": "code",
   "execution_count": null,
   "source": [
    "plt.figure(num=None, figsize=(10,10), facecolor='w', edgecolor='k')\n",
    "plt.scatter(crypto_tsne[:, 0], crypto_tsne[:, 1])\n",
    "plt.title('t-SNE visualization of cryptocurrencies', fontdict={'fontsize': 20})\n",
    "plt.xlabel('t-SNE 1')\n",
    "plt.ylabel('t-SNE 2')\n",
    "\n",
    "plt.scatter(5, 12, color = 'red', marker = 'o', s = 20000, alpha = 0.2)\n",
    "plt.scatter(-18, -5, color = 'blue', marker = 'o', s = 18000, alpha = 0.2)\n",
    "plt.scatter(4, -8, color = 'yellow', marker = 'o', s = 10000, alpha = 0.2)\n",
    "plt.scatter(28, -18, color = 'green', marker = 'o', s = 5000, alpha = 0.2)\n",
    "plt.show()"
   ],
   "outputs": [],
   "metadata": {}
  },
  {
   "cell_type": "code",
   "execution_count": null,
   "source": [
    "# Find the best value for k using the elbow curve\n",
    "\n",
    "inertia = []\n",
    "k = list(range(1, 11))\n",
    "for i in k:\n",
    "    km =  KMeans(n_clusters=i, random_state=0)\n",
    "    km.fit(crypto_tsne)\n",
    "    inertia.append(km.inertia_)\n",
    "\n",
    "elbow_df = pd.DataFrame({'k': k, 'inertia': inertia})\n",
    "elbow_df.plot(x='k', y='inertia', kind='line')"
   ],
   "outputs": [],
   "metadata": {}
  },
  {
   "cell_type": "code",
   "execution_count": null,
   "source": [
    "# Perform clustering with k=4\n",
    "km = KMeans(n_clusters=4, random_state=0)\n",
    "km.fit(crypto_tsne)\n",
    "predictions = km.predict(crypto_tsne)"
   ],
   "outputs": [],
   "metadata": {}
  },
  {
   "cell_type": "code",
   "execution_count": null,
   "source": [
    "# Visualize the results\n",
    "plt.figure(num=None, figsize=(10,10), facecolor='w', edgecolor='k')\n",
    "plt.scatter(crypto_tsne[:, 0], crypto_tsne[:, 1], c = predictions)\n",
    "plt.title('Cryptocurrency clustering by k-means', fontdict={'fontsize': 20})\n",
    "plt.xlabel('t-SNE 1')\n",
    "plt.ylabel('t-SNE 2')"
   ],
   "outputs": [],
   "metadata": {}
  },
  {
   "cell_type": "code",
   "execution_count": null,
   "source": [],
   "outputs": [],
   "metadata": {}
  }
 ],
 "metadata": {
  "orig_nbformat": 4,
  "language_info": {
   "name": "python",
   "version": "3.9.7",
   "mimetype": "text/x-python",
   "codemirror_mode": {
    "name": "ipython",
    "version": 3
   },
   "pygments_lexer": "ipython3",
   "nbconvert_exporter": "python",
   "file_extension": ".py"
  },
  "kernelspec": {
   "name": "python3",
   "display_name": "Python 3.9.7 64-bit"
  },
  "interpreter": {
   "hash": "50292dbb1f747f7151d445135d392af3138fb3c65386d17d9510cb605222b10b"
  }
 },
 "nbformat": 4,
 "nbformat_minor": 2
}